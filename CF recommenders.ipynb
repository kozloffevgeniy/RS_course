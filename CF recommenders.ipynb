{
 "cells": [
  {
   "cell_type": "code",
   "execution_count": 1,
   "metadata": {},
   "outputs": [],
   "source": [
    "import pandas as pd\n",
    "import os\n",
    "from scipy.sparse import csr_matrix\n",
    "import numpy as np\n",
    "import math"
   ]
  },
  {
   "cell_type": "markdown",
   "metadata": {},
   "source": [
    "# Data reading + EDA"
   ]
  },
  {
   "cell_type": "code",
   "execution_count": 2,
   "metadata": {},
   "outputs": [],
   "source": [
    "# path = os.getcwd() + r'/data/'\n",
    "# aisles = pd.read_csv(path + r'/aisles.csv', index_col=0)\n",
    "# departments = pd.read_csv(path + r'/departments.csv', index_col=0)\n",
    "# products = pd.read_csv(path + r'/products.csv')\n",
    "# orders = pd.read_csv(path + r'/orders.csv')\n",
    "# order_product_prior = pd.read_csv(path + r'/order_products__prior.csv')\n",
    "# order_product_train = pd.read_csv(path + r'/order_products__train.csv')"
   ]
  },
  {
   "cell_type": "code",
   "execution_count": 3,
   "metadata": {},
   "outputs": [],
   "source": [
    "# \"\"\"\n",
    "# Data preparation, since feedback is implicit, we can use amount of times user bought the product,\n",
    "# that's why we need to have a split before the rating evaluation.\n",
    "\n",
    "# Split is taken by last order each user've done, since everyone had been done at least 3 orders\n",
    "\n",
    "# \"\"\"\n",
    "\n",
    "# order_product = pd.concat([order_product_prior, order_product_train])\n",
    "# products = products.merge(departments, on='department_id')\n",
    "# products = products.merge(aisles, on='aisle_id')\n",
    "# products.drop(['aisle_id', 'department_id'], axis=1, inplace=True)\n",
    "# orders = orders.set_index('order_id')\n",
    "# order_product = order_product.merge(products, on='product_id')\n",
    "# merged_data = order_product.merge(orders, on='order_id')\n",
    "# merged_data = merged_data.drop(['add_to_cart_order', 'order_dow', 'days_since_prior_order', 'eval_set'], axis=1)\n",
    "\n",
    "# data = merged_data\n",
    "# last_orders = data.order_id.isin(\n",
    "#             data.sort_values(by=['user_id', 'order_number']).groupby('user_id').tail(1)['order_id'])\n",
    "\n",
    "# train_data=data[~last_orders]\n",
    "# test_data=data[last_orders]\n",
    "\n",
    "\n",
    "\n",
    "# ratings = train_data.groupby(['user_id', 'product_id']).count()['order_id']\n",
    "# ratings.name = 'amount'\n",
    "# train_data = train_data.merge(ratings, on=['user_id', 'product_id'])"
   ]
  },
  {
   "cell_type": "code",
   "execution_count": 5,
   "metadata": {},
   "outputs": [],
   "source": [
    "# train_data.to_csv('train_data.csv')\n",
    "# test_data.to_csv('test_data.csv')"
   ]
  },
  {
   "cell_type": "code",
   "execution_count": 2,
   "metadata": {},
   "outputs": [],
   "source": [
    "import pandas as pd\n",
    "import os\n",
    "from scipy.sparse import csr_matrix"
   ]
  },
  {
   "cell_type": "code",
   "execution_count": 3,
   "metadata": {},
   "outputs": [
    {
     "name": "stderr",
     "output_type": "stream",
     "text": [
      "C:\\Users\\user\\Anaconda3\\lib\\site-packages\\numpy\\lib\\arraysetops.py:580: FutureWarning: elementwise comparison failed; returning scalar instead, but in the future will perform elementwise comparison\n",
      "  mask |= (ar1 == a)\n"
     ]
    }
   ],
   "source": [
    "train_data = pd.read_csv('train_data.csv', index_col=0)\n",
    "test_data = pd.read_csv('test_data.csv', index_col=0)"
   ]
  },
  {
   "cell_type": "code",
   "execution_count": 4,
   "metadata": {},
   "outputs": [
    {
     "data": {
      "text/plain": [
       "206209"
      ]
     },
     "execution_count": 4,
     "metadata": {},
     "output_type": "execute_result"
    }
   ],
   "source": [
    "test_data.order_id.nunique()"
   ]
  },
  {
   "cell_type": "markdown",
   "metadata": {},
   "source": [
    "## EDA"
   ]
  },
  {
   "cell_type": "code",
   "execution_count": 8,
   "metadata": {},
   "outputs": [
    {
     "data": {
      "text/plain": [
       "product_id      49685\n",
       "user_id        206209\n",
       "order_id      3346083\n",
       "dtype: int64"
      ]
     },
     "execution_count": 8,
     "metadata": {},
     "output_type": "execute_result"
    }
   ],
   "source": [
    "data[['product_id', 'user_id', 'order_id']].nunique()"
   ]
  },
  {
   "cell_type": "code",
   "execution_count": 9,
   "metadata": {},
   "outputs": [
    {
     "data": {
      "text/plain": [
       "user_id\n",
       "201268    3725\n",
       "129928    3689\n",
       "164055    3089\n",
       "176478    2952\n",
       "186704    2936\n",
       "          ... \n",
       "75435        3\n",
       "93946        3\n",
       "84062        3\n",
       "142698       3\n",
       "99295        3\n",
       "Name: order_id, Length: 206209, dtype: int64"
      ]
     },
     "execution_count": 9,
     "metadata": {},
     "output_type": "execute_result"
    }
   ],
   "source": [
    "data.groupby('user_id')['order_id'].count().sort_values()[::-1]"
   ]
  },
  {
   "cell_type": "code",
   "execution_count": 10,
   "metadata": {},
   "outputs": [
    {
     "data": {
      "text/plain": [
       "<AxesSubplot:>"
      ]
     },
     "execution_count": 10,
     "metadata": {},
     "output_type": "execute_result"
    },
    {
     "data": {
      "image/png": "[encoded data removed]",
      "text/plain": [
       "<Figure size 432x288 with 1 Axes>"
      ]
     },
     "metadata": {
      "needs_background": "light"
     },
     "output_type": "display_data"
    }
   ],
   "source": [
    "data.groupby('user_id')['order_id'].count().sort_values().hist()"
   ]
  },
  {
   "cell_type": "code",
   "execution_count": 11,
   "metadata": {},
   "outputs": [
    {
     "data": {
      "text/plain": [
       "product_id\n",
       "36233         1\n",
       "11254         1\n",
       "43098         1\n",
       "14485         1\n",
       "7626          1\n",
       "          ...  \n",
       "47209    220877\n",
       "21903    251705\n",
       "21137    275577\n",
       "13176    394930\n",
       "24852    491291\n",
       "Name: order_id, Length: 49685, dtype: int64"
      ]
     },
     "execution_count": 11,
     "metadata": {},
     "output_type": "execute_result"
    }
   ],
   "source": [
    "data.groupby('product_id')['order_id'].count().sort_values()"
   ]
  },
  {
   "cell_type": "code",
   "execution_count": 12,
   "metadata": {},
   "outputs": [
    {
     "data": {
      "image/png": "[encoded data removed]",
      "text/plain": [
       "<Figure size 432x288 with 1 Axes>"
      ]
     },
     "metadata": {
      "needs_background": "light"
     },
     "output_type": "display_data"
    }
   ],
   "source": [
    "tmp = data.groupby('product_id')['order_id'].count().sort_values()\n",
    "tmp[tmp < 1000].hist()\n",
    "del tmp"
   ]
  },
  {
   "cell_type": "markdown",
   "metadata": {},
   "source": [
    "Существуют выбросы в большую сторону, например, самые популярные продукты, как бананы. Большинство товаров заказано меньше 100 раз"
   ]
  },
  {
   "cell_type": "markdown",
   "metadata": {},
   "source": [
    "Минимум 3 заказа на пользователя\n",
    "\n",
    "Минимум 1 заказ на продукт\n"
   ]
  },
  {
   "cell_type": "markdown",
   "metadata": {},
   "source": [
    "# Метрики (из первого задания)"
   ]
  },
  {
   "cell_type": "code",
   "execution_count": 5,
   "metadata": {},
   "outputs": [],
   "source": [
    "def hitrate(y_true, y_pred, k):\n",
    "    return np.mean([len([x for x in y_pred[i][:k] if x in y_true[i]]) > 0 for i in range(len(y_pred))])"
   ]
  },
  {
   "cell_type": "code",
   "execution_count": 6,
   "metadata": {},
   "outputs": [],
   "source": [
    "def p(y_true, y_pred, k):\n",
    "    return len([x for x in y_pred[:k] if x in y_true])/k\n",
    "def ap(y_true, y_pred, k):\n",
    "    if k > len(y_pred):\n",
    "        raise(ValueError)\n",
    "    if k == 0:\n",
    "        return 0\n",
    "    tmp = np.sum([int(y_pred[i] in y_true) for i in range(k)])\n",
    "    if tmp == 0:\n",
    "        return 0\n",
    "    return sum([(y_pred[i] in y_true) * p(y_true, y_pred, i+1) for i in range(k)]) / tmp\n",
    "def map_k(y_true, y_pred, k):\n",
    "    return np.mean([ap(y_true[i], y_pred[i], k) for i in range(len(y_true))])"
   ]
  },
  {
   "cell_type": "code",
   "execution_count": 7,
   "metadata": {},
   "outputs": [],
   "source": [
    "def dcg(ratings, k):\n",
    "    if k > len(ratings):\n",
    "        raise ValueError\n",
    "    return np.sum([(2**ratings[i] - 1) / math.log2(i+2) for i in range(k)])\n",
    "def idcg(k):\n",
    "    return np.sum([1 / math.log2(i+2) for i in range(k)])\n",
    "def ndcg(ratings, k):\n",
    "    if k > len(ratings):\n",
    "        raise ValueError\n",
    "    return dcg(ratings, k) / idcg(k)\n",
    "def mean_ndcg(results, k):\n",
    "    return np.mean([ndcg(i, k) for i in results])\n",
    "\n",
    "def evaluate_ndcg(data, k):\n",
    "    return data.groupby('user_id')['amount'].apply(list).apply(lambda x: ndcg(x, 10)).mean()"
   ]
  },
  {
   "cell_type": "code",
   "execution_count": 8,
   "metadata": {},
   "outputs": [],
   "source": [
    "\"\"\"Calculate all the metrics at once\"\"\"\n",
    "\n",
    "def metrics(test, result, k=10):\n",
    "    res = result.sort_values(by=['user_id', 'item_order'])\n",
    "    res = res.drop_duplicates(['user_id', 'product_id'])\n",
    "    test = test.sort_values(by='user_id')\n",
    "    y_true = list(test.groupby('user_id')['product_id'].apply(list))\n",
    "    preds = list(res.groupby('user_id')['product_id'].apply(list))\n",
    "    print('Hitrate@{} '.format(k), round(hitrate(y_true, preds, k), 3))\n",
    "    print('MAP@{} '.format(k), round(map_k(y_true, preds, k), 3))"
   ]
  },
  {
   "cell_type": "markdown",
   "metadata": {},
   "source": [
    "## CF"
   ]
  },
  {
   "cell_type": "code",
   "execution_count": 9,
   "metadata": {},
   "outputs": [],
   "source": [
    "train_data = train_data[['user_id', 'product_id', 'order_id', 'amount', 'order_number']]\n",
    "test_data = test_data[['user_id', 'product_id', 'order_id']]"
   ]
  },
  {
   "cell_type": "code",
   "execution_count": 10,
   "metadata": {},
   "outputs": [
    {
     "data": {
      "text/html": [
       "<div>\n",
       "<style scoped>\n",
       "    .dataframe tbody tr th:only-of-type {\n",
       "        vertical-align: middle;\n",
       "    }\n",
       "\n",
       "    .dataframe tbody tr th {\n",
       "        vertical-align: top;\n",
       "    }\n",
       "\n",
       "    .dataframe thead th {\n",
       "        text-align: right;\n",
       "    }\n",
       "</style>\n",
       "<table border=\"1\" class=\"dataframe\">\n",
       "  <thead>\n",
       "    <tr style=\"text-align: right;\">\n",
       "      <th></th>\n",
       "      <th>user_id</th>\n",
       "      <th>product_id</th>\n",
       "      <th>order_id</th>\n",
       "      <th>amount</th>\n",
       "      <th>order_number</th>\n",
       "    </tr>\n",
       "  </thead>\n",
       "  <tbody>\n",
       "    <tr>\n",
       "      <th>0</th>\n",
       "      <td>202279</td>\n",
       "      <td>33120</td>\n",
       "      <td>2</td>\n",
       "      <td>5</td>\n",
       "      <td>3</td>\n",
       "    </tr>\n",
       "    <tr>\n",
       "      <th>1</th>\n",
       "      <td>202279</td>\n",
       "      <td>33120</td>\n",
       "      <td>104690</td>\n",
       "      <td>5</td>\n",
       "      <td>8</td>\n",
       "    </tr>\n",
       "    <tr>\n",
       "      <th>2</th>\n",
       "      <td>202279</td>\n",
       "      <td>33120</td>\n",
       "      <td>132412</td>\n",
       "      <td>5</td>\n",
       "      <td>6</td>\n",
       "    </tr>\n",
       "    <tr>\n",
       "      <th>3</th>\n",
       "      <td>202279</td>\n",
       "      <td>33120</td>\n",
       "      <td>2808715</td>\n",
       "      <td>5</td>\n",
       "      <td>5</td>\n",
       "    </tr>\n",
       "    <tr>\n",
       "      <th>4</th>\n",
       "      <td>202279</td>\n",
       "      <td>33120</td>\n",
       "      <td>2894949</td>\n",
       "      <td>5</td>\n",
       "      <td>1</td>\n",
       "    </tr>\n",
       "    <tr>\n",
       "      <th>...</th>\n",
       "      <td>...</td>\n",
       "      <td>...</td>\n",
       "      <td>...</td>\n",
       "      <td>...</td>\n",
       "      <td>...</td>\n",
       "    </tr>\n",
       "    <tr>\n",
       "      <th>31653684</th>\n",
       "      <td>117521</td>\n",
       "      <td>13189</td>\n",
       "      <td>2858225</td>\n",
       "      <td>1</td>\n",
       "      <td>3</td>\n",
       "    </tr>\n",
       "    <tr>\n",
       "      <th>31653685</th>\n",
       "      <td>189140</td>\n",
       "      <td>47680</td>\n",
       "      <td>1666202</td>\n",
       "      <td>1</td>\n",
       "      <td>2</td>\n",
       "    </tr>\n",
       "    <tr>\n",
       "      <th>31653686</th>\n",
       "      <td>182854</td>\n",
       "      <td>34390</td>\n",
       "      <td>1699504</td>\n",
       "      <td>1</td>\n",
       "      <td>10</td>\n",
       "    </tr>\n",
       "    <tr>\n",
       "      <th>31653687</th>\n",
       "      <td>51836</td>\n",
       "      <td>31530</td>\n",
       "      <td>2666238</td>\n",
       "      <td>1</td>\n",
       "      <td>12</td>\n",
       "    </tr>\n",
       "    <tr>\n",
       "      <th>31653688</th>\n",
       "      <td>37237</td>\n",
       "      <td>39759</td>\n",
       "      <td>2770035</td>\n",
       "      <td>1</td>\n",
       "      <td>50</td>\n",
       "    </tr>\n",
       "  </tbody>\n",
       "</table>\n",
       "<p>31653689 rows × 5 columns</p>\n",
       "</div>"
      ],
      "text/plain": [
       "          user_id  product_id  order_id  amount  order_number\n",
       "0          202279       33120         2       5             3\n",
       "1          202279       33120    104690       5             8\n",
       "2          202279       33120    132412       5             6\n",
       "3          202279       33120   2808715       5             5\n",
       "4          202279       33120   2894949       5             1\n",
       "...           ...         ...       ...     ...           ...\n",
       "31653684   117521       13189   2858225       1             3\n",
       "31653685   189140       47680   1666202       1             2\n",
       "31653686   182854       34390   1699504       1            10\n",
       "31653687    51836       31530   2666238       1            12\n",
       "31653688    37237       39759   2770035       1            50\n",
       "\n",
       "[31653689 rows x 5 columns]"
      ]
     },
     "execution_count": 10,
     "metadata": {},
     "output_type": "execute_result"
    }
   ],
   "source": [
    "train_data"
   ]
  },
  {
   "cell_type": "markdown",
   "metadata": {},
   "source": [
    "Creating maps to encode users/items in scipy sparse matrix to avoid memory issues in further processing"
   ]
  },
  {
   "cell_type": "code",
   "execution_count": 11,
   "metadata": {},
   "outputs": [],
   "source": [
    "user_map = {v: i for i,v in enumerate(sorted(train_data['user_id'].unique()))}"
   ]
  },
  {
   "cell_type": "code",
   "execution_count": 12,
   "metadata": {},
   "outputs": [],
   "source": [
    "item_map = {v: i for i,v in enumerate(sorted(train_data['product_id'].unique()))}"
   ]
  },
  {
   "cell_type": "code",
   "execution_count": 13,
   "metadata": {},
   "outputs": [],
   "source": [
    "\"\"\"Creates CF matrix based on the amount of buys per product, drop duplicates to avoid squaring the rating\"\"\"\n",
    "\n",
    "CF  = csr_matrix((train_data.amount, \n",
    "                  (train_data.user_id.apply(lambda x: user_map[x]),\n",
    "                   train_data.product_id.apply(lambda x: item_map[x]))))"
   ]
  },
  {
   "cell_type": "code",
   "execution_count": 14,
   "metadata": {},
   "outputs": [
    {
     "data": {
      "text/plain": [
       "(206209, 49668)"
      ]
     },
     "execution_count": 14,
     "metadata": {},
     "output_type": "execute_result"
    }
   ],
   "source": [
    "CF.shape"
   ]
  },
  {
   "cell_type": "markdown",
   "metadata": {},
   "source": [
    "# Recommenders"
   ]
  },
  {
   "cell_type": "markdown",
   "metadata": {},
   "source": [
    "## Most popular"
   ]
  },
  {
   "cell_type": "code",
   "execution_count": 24,
   "metadata": {},
   "outputs": [],
   "source": [
    "MP = train_data.groupby('product_id').count().sort_values(by='user_id', ascending=False)[:20].index"
   ]
  },
  {
   "cell_type": "code",
   "execution_count": 25,
   "metadata": {},
   "outputs": [
    {
     "data": {
      "text/plain": [
       "Int64Index([24852, 13176, 21137, 21903, 47209, 47766, 47626, 16797, 26209,\n",
       "            27845, 27966, 22935, 24964, 45007, 39275, 49683, 28204,  5876,\n",
       "             8277, 40706],\n",
       "           dtype='int64', name='product_id')"
      ]
     },
     "execution_count": 25,
     "metadata": {},
     "output_type": "execute_result"
    }
   ],
   "source": [
    "MP"
   ]
  },
  {
   "cell_type": "code",
   "execution_count": 26,
   "metadata": {},
   "outputs": [],
   "source": [
    "k = 10\n",
    "result = pd.DataFrame({\n",
    "            'user_id': np.repeat(test_data.user_id.unique(), k),\n",
    "            'product_id': list(MP[:k]) * test_data.user_id.unique().shape[0],\n",
    "            'item_order': list(range(1, k + 1)) * test_data.user_id.unique().shape[0]\n",
    "        })"
   ]
  },
  {
   "cell_type": "code",
   "execution_count": 140,
   "metadata": {},
   "outputs": [],
   "source": [
    "MP_res = result"
   ]
  },
  {
   "cell_type": "code",
   "execution_count": 141,
   "metadata": {},
   "outputs": [],
   "source": [
    "\"\"\"Merge result on train to get the rating of the predicted products\"\"\"\n",
    "\n",
    "MP_res = MP_res.merge(train_data.drop_duplicates(['user_id', 'product_id']), on=['user_id', 'product_id'], how='left')[['user_id', 'product_id', 'item_order', 'amount']]"
   ]
  },
  {
   "cell_type": "code",
   "execution_count": 142,
   "metadata": {},
   "outputs": [
    {
     "data": {
      "text/html": [
       "<div>\n",
       "<style scoped>\n",
       "    .dataframe tbody tr th:only-of-type {\n",
       "        vertical-align: middle;\n",
       "    }\n",
       "\n",
       "    .dataframe tbody tr th {\n",
       "        vertical-align: top;\n",
       "    }\n",
       "\n",
       "    .dataframe thead th {\n",
       "        text-align: right;\n",
       "    }\n",
       "</style>\n",
       "<table border=\"1\" class=\"dataframe\">\n",
       "  <thead>\n",
       "    <tr style=\"text-align: right;\">\n",
       "      <th></th>\n",
       "      <th>user_id</th>\n",
       "      <th>product_id</th>\n",
       "      <th>item_order</th>\n",
       "      <th>amount</th>\n",
       "    </tr>\n",
       "  </thead>\n",
       "  <tbody>\n",
       "    <tr>\n",
       "      <th>0</th>\n",
       "      <td>116952</td>\n",
       "      <td>24852</td>\n",
       "      <td>1</td>\n",
       "      <td>6.0</td>\n",
       "    </tr>\n",
       "    <tr>\n",
       "      <th>1</th>\n",
       "      <td>116952</td>\n",
       "      <td>13176</td>\n",
       "      <td>2</td>\n",
       "      <td>NaN</td>\n",
       "    </tr>\n",
       "    <tr>\n",
       "      <th>2</th>\n",
       "      <td>116952</td>\n",
       "      <td>21137</td>\n",
       "      <td>3</td>\n",
       "      <td>6.0</td>\n",
       "    </tr>\n",
       "    <tr>\n",
       "      <th>3</th>\n",
       "      <td>116952</td>\n",
       "      <td>21903</td>\n",
       "      <td>4</td>\n",
       "      <td>NaN</td>\n",
       "    </tr>\n",
       "    <tr>\n",
       "      <th>4</th>\n",
       "      <td>116952</td>\n",
       "      <td>47209</td>\n",
       "      <td>5</td>\n",
       "      <td>NaN</td>\n",
       "    </tr>\n",
       "    <tr>\n",
       "      <th>...</th>\n",
       "      <td>...</td>\n",
       "      <td>...</td>\n",
       "      <td>...</td>\n",
       "      <td>...</td>\n",
       "    </tr>\n",
       "    <tr>\n",
       "      <th>2062085</th>\n",
       "      <td>184060</td>\n",
       "      <td>47766</td>\n",
       "      <td>6</td>\n",
       "      <td>NaN</td>\n",
       "    </tr>\n",
       "    <tr>\n",
       "      <th>2062086</th>\n",
       "      <td>184060</td>\n",
       "      <td>47626</td>\n",
       "      <td>7</td>\n",
       "      <td>NaN</td>\n",
       "    </tr>\n",
       "    <tr>\n",
       "      <th>2062087</th>\n",
       "      <td>184060</td>\n",
       "      <td>16797</td>\n",
       "      <td>8</td>\n",
       "      <td>NaN</td>\n",
       "    </tr>\n",
       "    <tr>\n",
       "      <th>2062088</th>\n",
       "      <td>184060</td>\n",
       "      <td>26209</td>\n",
       "      <td>9</td>\n",
       "      <td>NaN</td>\n",
       "    </tr>\n",
       "    <tr>\n",
       "      <th>2062089</th>\n",
       "      <td>184060</td>\n",
       "      <td>27845</td>\n",
       "      <td>10</td>\n",
       "      <td>NaN</td>\n",
       "    </tr>\n",
       "  </tbody>\n",
       "</table>\n",
       "<p>2062090 rows × 4 columns</p>\n",
       "</div>"
      ],
      "text/plain": [
       "         user_id  product_id  item_order  amount\n",
       "0         116952       24852           1     6.0\n",
       "1         116952       13176           2     NaN\n",
       "2         116952       21137           3     6.0\n",
       "3         116952       21903           4     NaN\n",
       "4         116952       47209           5     NaN\n",
       "...          ...         ...         ...     ...\n",
       "2062085   184060       47766           6     NaN\n",
       "2062086   184060       47626           7     NaN\n",
       "2062087   184060       16797           8     NaN\n",
       "2062088   184060       26209           9     NaN\n",
       "2062089   184060       27845          10     NaN\n",
       "\n",
       "[2062090 rows x 4 columns]"
      ]
     },
     "execution_count": 142,
     "metadata": {},
     "output_type": "execute_result"
    }
   ],
   "source": [
    "MP_res"
   ]
  },
  {
   "cell_type": "code",
   "execution_count": 143,
   "metadata": {},
   "outputs": [],
   "source": [
    "MP_res['amount'][MP_res.amount.isna()] = 0"
   ]
  },
  {
   "cell_type": "code",
   "execution_count": 144,
   "metadata": {},
   "outputs": [],
   "source": [
    "# %%time\n",
    "# metrics(test_data, MP_res)"
   ]
  },
  {
   "cell_type": "code",
   "execution_count": 145,
   "metadata": {},
   "outputs": [],
   "source": [
    "MP_res.amount = MP_res.amount / max(MP_res.amount) * 3"
   ]
  },
  {
   "cell_type": "code",
   "execution_count": 146,
   "metadata": {},
   "outputs": [
    {
     "data": {
      "text/plain": [
       "0.03419433657726226"
      ]
     },
     "execution_count": 146,
     "metadata": {},
     "output_type": "execute_result"
    }
   ],
   "source": [
    "MP_res.groupby('user_id')['amount'].apply(list).apply(lambda x: ndcg(x, 10)).mean()"
   ]
  },
  {
   "cell_type": "markdown",
   "metadata": {},
   "source": [
    "#### Results of MP (just to safe and don't rerun code)\n",
    "- Hitrate@10  0.457\n",
    "- MAP@10  0.22\n",
    "- nDCG@10 0.034"
   ]
  },
  {
   "cell_type": "markdown",
   "metadata": {},
   "source": [
    "## SVD recommender"
   ]
  },
  {
   "cell_type": "code",
   "execution_count": 151,
   "metadata": {},
   "outputs": [],
   "source": [
    "from sklearn.decomposition import TruncatedSVD\n",
    "import numpy as np"
   ]
  },
  {
   "cell_type": "code",
   "execution_count": 152,
   "metadata": {},
   "outputs": [],
   "source": [
    "\"\"\"Uses SVD decompositions to create user/items embeddings to recreate matrix afterwards\"\"\"\n",
    "\n",
    "svd = TruncatedSVD(n_components=100, random_state=42)\n",
    "\n",
    "u = svd.fit_transform(CF) / svd.singular_values_\n",
    "s = np.diag(svd.singular_values_)\n",
    "vt = svd.components_"
   ]
  },
  {
   "cell_type": "code",
   "execution_count": 153,
   "metadata": {},
   "outputs": [
    {
     "data": {
      "text/plain": [
       "(206209, 100)"
      ]
     },
     "execution_count": 153,
     "metadata": {},
     "output_type": "execute_result"
    }
   ],
   "source": [
    "u.shape"
   ]
  },
  {
   "cell_type": "code",
   "execution_count": 154,
   "metadata": {},
   "outputs": [],
   "source": [
    "\"\"\"Batch processing to avoid memory issues\"\"\"\n",
    "\n",
    "def batch(obj, n):\n",
    "    lenght = len(obj)\n",
    "    for i in range(0, lenght, n):\n",
    "        yield obj[i:min(i + n, lenght)]"
   ]
  },
  {
   "cell_type": "code",
   "execution_count": 155,
   "metadata": {},
   "outputs": [],
   "source": [
    "from tqdm import tqdm"
   ]
  },
  {
   "cell_type": "code",
   "execution_count": 156,
   "metadata": {},
   "outputs": [
    {
     "name": "stderr",
     "output_type": "stream",
     "text": [
      "4125it [21:20,  3.22it/s]\n"
     ]
    }
   ],
   "source": [
    "\n",
    "\"\"\"Recreates matrix by batches, sort values, gets recommendations for each user. Type int32 to reduce memory usage,\n",
    "since ratings are \n",
    "\n",
    "\"\"\"\n",
    "k = 10\n",
    "top_matrix_ind = []\n",
    "for b in tqdm(batch(u, 50)):\n",
    "    top_matrix_ind += list(\n",
    "                map(lambda x: np.array(x[:k], dtype='int32'),\n",
    "                    np.argsort(-np.dot(np.dot(b, s), vt))))"
   ]
  },
  {
   "cell_type": "code",
   "execution_count": 158,
   "metadata": {},
   "outputs": [],
   "source": [
    "\"\"\"Decode recommendations from CF maps\"\"\"\n",
    "\n",
    "rev_item_map = {v: k for k, v in item_map.items()}\n",
    "svd_res = np.array([list(map(lambda x: rev_item_map[x], arr)) for arr in top_matrix_ind])\n"
   ]
  },
  {
   "cell_type": "code",
   "execution_count": 159,
   "metadata": {},
   "outputs": [],
   "source": [
    "svd_res = [svd_res[i] for i in test_data.user_id.apply(lambda x: user_map[x]).unique()]"
   ]
  },
  {
   "cell_type": "code",
   "execution_count": 160,
   "metadata": {},
   "outputs": [],
   "source": [
    "SVD_res = pd.DataFrame(np.repeat(test_data.user_id.unique(), 10))"
   ]
  },
  {
   "cell_type": "code",
   "execution_count": 162,
   "metadata": {},
   "outputs": [],
   "source": [
    "SVD_res['product_id'] = np.array(svd_res).flatten()"
   ]
  },
  {
   "cell_type": "code",
   "execution_count": 163,
   "metadata": {},
   "outputs": [],
   "source": [
    "SVD_res.columns = ['user_id', 'product_id']"
   ]
  },
  {
   "cell_type": "code",
   "execution_count": 164,
   "metadata": {},
   "outputs": [],
   "source": [
    "SVD_res['item_order'] = list(range(1, 11)) * test_data.user_id.nunique()"
   ]
  },
  {
   "cell_type": "code",
   "execution_count": 165,
   "metadata": {},
   "outputs": [
    {
     "data": {
      "text/html": [
       "<div>\n",
       "<style scoped>\n",
       "    .dataframe tbody tr th:only-of-type {\n",
       "        vertical-align: middle;\n",
       "    }\n",
       "\n",
       "    .dataframe tbody tr th {\n",
       "        vertical-align: top;\n",
       "    }\n",
       "\n",
       "    .dataframe thead th {\n",
       "        text-align: right;\n",
       "    }\n",
       "</style>\n",
       "<table border=\"1\" class=\"dataframe\">\n",
       "  <thead>\n",
       "    <tr style=\"text-align: right;\">\n",
       "      <th></th>\n",
       "      <th>user_id</th>\n",
       "      <th>product_id</th>\n",
       "      <th>item_order</th>\n",
       "    </tr>\n",
       "  </thead>\n",
       "  <tbody>\n",
       "    <tr>\n",
       "      <th>0</th>\n",
       "      <td>116952</td>\n",
       "      <td>39877</td>\n",
       "      <td>1</td>\n",
       "    </tr>\n",
       "    <tr>\n",
       "      <th>1</th>\n",
       "      <td>116952</td>\n",
       "      <td>24852</td>\n",
       "      <td>2</td>\n",
       "    </tr>\n",
       "    <tr>\n",
       "      <th>2</th>\n",
       "      <td>116952</td>\n",
       "      <td>21137</td>\n",
       "      <td>3</td>\n",
       "    </tr>\n",
       "    <tr>\n",
       "      <th>3</th>\n",
       "      <td>116952</td>\n",
       "      <td>9839</td>\n",
       "      <td>4</td>\n",
       "    </tr>\n",
       "    <tr>\n",
       "      <th>4</th>\n",
       "      <td>116952</td>\n",
       "      <td>25931</td>\n",
       "      <td>5</td>\n",
       "    </tr>\n",
       "    <tr>\n",
       "      <th>...</th>\n",
       "      <td>...</td>\n",
       "      <td>...</td>\n",
       "      <td>...</td>\n",
       "    </tr>\n",
       "    <tr>\n",
       "      <th>2062085</th>\n",
       "      <td>184060</td>\n",
       "      <td>20119</td>\n",
       "      <td>6</td>\n",
       "    </tr>\n",
       "    <tr>\n",
       "      <th>2062086</th>\n",
       "      <td>184060</td>\n",
       "      <td>26620</td>\n",
       "      <td>7</td>\n",
       "    </tr>\n",
       "    <tr>\n",
       "      <th>2062087</th>\n",
       "      <td>184060</td>\n",
       "      <td>46676</td>\n",
       "      <td>8</td>\n",
       "    </tr>\n",
       "    <tr>\n",
       "      <th>2062088</th>\n",
       "      <td>184060</td>\n",
       "      <td>49044</td>\n",
       "      <td>9</td>\n",
       "    </tr>\n",
       "    <tr>\n",
       "      <th>2062089</th>\n",
       "      <td>184060</td>\n",
       "      <td>31964</td>\n",
       "      <td>10</td>\n",
       "    </tr>\n",
       "  </tbody>\n",
       "</table>\n",
       "<p>2062090 rows × 3 columns</p>\n",
       "</div>"
      ],
      "text/plain": [
       "         user_id  product_id  item_order\n",
       "0         116952       39877           1\n",
       "1         116952       24852           2\n",
       "2         116952       21137           3\n",
       "3         116952        9839           4\n",
       "4         116952       25931           5\n",
       "...          ...         ...         ...\n",
       "2062085   184060       20119           6\n",
       "2062086   184060       26620           7\n",
       "2062087   184060       46676           8\n",
       "2062088   184060       49044           9\n",
       "2062089   184060       31964          10\n",
       "\n",
       "[2062090 rows x 3 columns]"
      ]
     },
     "execution_count": 165,
     "metadata": {},
     "output_type": "execute_result"
    }
   ],
   "source": [
    "SVD_res"
   ]
  },
  {
   "cell_type": "code",
   "execution_count": 167,
   "metadata": {},
   "outputs": [],
   "source": [
    "SVD_res = SVD_res.merge(train_data.drop_duplicates(['user_id', 'product_id']), on=['user_id', 'product_id'], how='left')[['user_id', 'product_id', 'item_order', 'amount']]"
   ]
  },
  {
   "cell_type": "code",
   "execution_count": 168,
   "metadata": {},
   "outputs": [],
   "source": [
    "SVD_res['amount'][SVD_res.amount.isna()] = 0"
   ]
  },
  {
   "cell_type": "code",
   "execution_count": 169,
   "metadata": {},
   "outputs": [],
   "source": [
    "SVD_res.amount = SVD_res.amount / max(SVD_res.amount) * 3"
   ]
  },
  {
   "cell_type": "code",
   "execution_count": 166,
   "metadata": {},
   "outputs": [
    {
     "name": "stdout",
     "output_type": "stream",
     "text": [
      "Hitrate@10  0.64\n",
      "MAP@10  0.428\n"
     ]
    }
   ],
   "source": [
    "v"
   ]
  },
  {
   "cell_type": "code",
   "execution_count": 170,
   "metadata": {},
   "outputs": [
    {
     "data": {
      "text/plain": [
       "0.09147729585856695"
      ]
     },
     "execution_count": 170,
     "metadata": {},
     "output_type": "execute_result"
    }
   ],
   "source": [
    "SVD_res.groupby('user_id')['amount'].apply(list).apply(lambda x: ndcg(x, 10)).mean()"
   ]
  },
  {
   "cell_type": "markdown",
   "metadata": {},
   "source": [
    "- Hitrate@10  0.64\n",
    "- MAP@10  0.428\n",
    "- nDCG@10 0.091"
   ]
  },
  {
   "cell_type": "markdown",
   "metadata": {},
   "source": [
    "## NN recommender"
   ]
  },
  {
   "cell_type": "code",
   "execution_count": 17,
   "metadata": {},
   "outputs": [],
   "source": [
    "nn_train = train_data[['user_id', 'product_id']].drop_duplicates()"
   ]
  },
  {
   "cell_type": "code",
   "execution_count": 18,
   "metadata": {},
   "outputs": [],
   "source": [
    "nn_train['rating'] = 1"
   ]
  },
  {
   "cell_type": "code",
   "execution_count": 19,
   "metadata": {},
   "outputs": [],
   "source": [
    "nn_test = test_data[['user_id', 'product_id']].drop_duplicates()"
   ]
  },
  {
   "cell_type": "code",
   "execution_count": 20,
   "metadata": {},
   "outputs": [],
   "source": [
    "uids = np.array(nn_train.user_id.apply(lambda x: user_map[x]))\n",
    "iids = np.array(nn_train.product_id.apply(lambda x: item_map[x]))"
   ]
  },
  {
   "cell_type": "code",
   "execution_count": 21,
   "metadata": {},
   "outputs": [],
   "source": [
    "users = nn_train.user_id.apply(lambda x: user_map[x]).unique()\n",
    "items = nn_train.product_id.apply(lambda x: item_map[x]).unique()"
   ]
  },
  {
   "cell_type": "code",
   "execution_count": 26,
   "metadata": {},
   "outputs": [],
   "source": [
    "zipped = set(zip(uids, iids))\n",
    "def train_samples():\n",
    "    user_input, item_input, labels = [],[],[]\n",
    "    for (u, i) in zip(uids,iids):\n",
    "    # Add our positive interaction\n",
    "        user_input.append(u)\n",
    "        item_input.append(i)\n",
    "        labels.append(1)\n",
    "        for t in range(5):\n",
    "            j = np.random.randint(len(items))\n",
    "            while (u, j) in zipped:\n",
    "                j = np.random.randint(len(items))\n",
    "            user_input.append(u)\n",
    "            item_input.append(j)\n",
    "            labels.append(0)\n",
    "    return user_input, item_input, labels"
   ]
  },
  {
   "cell_type": "code",
   "execution_count": 37,
   "metadata": {},
   "outputs": [],
   "source": [
    "import tensorflow.compat.v1 as tf\n",
    "import numpy as np\n",
    "import pandas as pd\n",
    "import math\n",
    "import heapq\n",
    "from tqdm import tqdm\n",
    "from numpy.random import shuffle\n",
    "\n",
    "\n",
    "num_neg = 4\n",
    "epochs = 20\n",
    "batch_size = 256\n",
    "learning_rate = 0.001\n",
    "\n",
    "\n",
    "graph = tf.Graph()\n",
    "\n",
    "with graph.as_default():\n",
    "\n",
    "    \"\"\"The model creates embeddings for users/items concat them & runs it with the dense layers to binary classification\"\"\"\n",
    "    \n",
    "    user = tf.placeholder(tf.int32, shape=(None, 1))\n",
    "    item = tf.placeholder(tf.int32, shape=(None, 1))\n",
    "    label = tf.placeholder(tf.int32, shape=(None, 1))\n",
    "\n",
    "    # User feature embedding\n",
    "    u_var = tf.Variable(tf.random_normal([len(users), 32], stddev=0.05), name='user_embedding')\n",
    "    user_embedding = tf.nn.embedding_lookup(u_var, user)\n",
    "\n",
    "    # Item feature embedding\n",
    "    i_var = tf.Variable(tf.random_normal([len(items), 32], stddev=0.05), name='item_embedding')\n",
    "    item_embedding = tf.nn.embedding_lookup(i_var, item)\n",
    "\n",
    "    user_embedding = tf.keras.layers.Flatten()(user_embedding)\n",
    "    item_embedding = tf.keras.layers.Flatten()(item_embedding)\n",
    "\n",
    "    concatenated = tf.keras.layers.concatenate([user_embedding, item_embedding])\n",
    "\n",
    "    dropout = tf.keras.layers.Dropout(0.2)(concatenated)\n",
    "\n",
    "\n",
    "    layer_1 = tf.keras.layers.Dense(64, activation='relu', name='layer1')(dropout)\n",
    "    batch_norm1 = tf.keras.layers.BatchNormalization(name='batch_norm1')(layer_1)\n",
    "    dropout1 = tf.keras.layers.Dropout(0.2, name='dropout1')(batch_norm1)\n",
    "\n",
    "    layer_2 = tf.keras.layers.Dense(32, activation='relu', name='layer2')(layer_1)\n",
    "    batch_norm2 = tf.keras.layers.BatchNormalization(name='batch_norm1')(layer_2)\n",
    "    dropout2 = tf.keras.layers.Dropout(0.2, name='dropout1')(batch_norm2)\n",
    "\n",
    "    layer_3 = tf.keras.layers.Dense(16, activation='relu', name='layer3')(layer_2)\n",
    "    layer_4 = tf.keras.layers.Dense(8, activation='relu', name='layer4')(layer_3)\n",
    "\n",
    "    output_layer = tf.keras.layers.Dense(1,\n",
    "            kernel_initializer=\"lecun_uniform\",\n",
    "            name='output_layer')(layer_4)\n",
    "\n",
    "    labels = tf.cast(label, tf.float32)\n",
    "    logits = output_layer\n",
    "    loss = tf.reduce_mean(tf.nn.sigmoid_cross_entropy_with_logits(\n",
    "                labels=labels,\n",
    "                logits=logits))\n",
    ".\n",
    "    opt = tf.train.AdamOptimizer(learning_rate = learning_rate)\n",
    "    step = opt.minimize(loss)\n",
    "\n",
    "    init = tf.global_variables_initializer()\n",
    "\n",
    "session = tf.Session(config=None, graph=graph)\n",
    "session.run(init)"
   ]
  },
  {
   "cell_type": "code",
   "execution_count": 45,
   "metadata": {},
   "outputs": [],
   "source": [
    "def random_mini_batches(U, I, L, mini_batch_size=256):\n",
    "    \"\"\"Creates batches for the NN rec\n",
    "    \"\"\"\n",
    "\n",
    "    mini_batches = []\n",
    "    s = pd.DataFrame({'U':U, 'I':I, \"L\":L})\n",
    "    shuffled_U, shuffled_I, shuffled_L = list(s['U']), list(s['I']), list(s['L'])\n",
    "\n",
    "    num_complete_batches = int(math.floor(len(U)/mini_batch_size))\n",
    "    for k in range(0, num_complete_batches):\n",
    "        mini_batch_U = shuffled_U[k * mini_batch_size : k * mini_batch_size + mini_batch_size]\n",
    "        mini_batch_I = shuffled_I[k * mini_batch_size : k * mini_batch_size + mini_batch_size]\n",
    "        mini_batch_L = shuffled_L[k * mini_batch_size : k * mini_batch_size + mini_batch_size]\n",
    "\n",
    "        mini_batch = (mini_batch_U, mini_batch_I, mini_batch_L)\n",
    "        mini_batches.append(mini_batch)\n",
    "\n",
    "    if len(U) % mini_batch_size != 0:\n",
    "        mini_batch_U = shuffled_U[num_complete_batches * mini_batch_size: len(U)]\n",
    "        mini_batch_I = shuffled_I[num_complete_batches * mini_batch_size: len(U)]\n",
    "        mini_batch_L = shuffled_L[num_complete_batches * mini_batch_size: len(U)]\n",
    "\n",
    "        mini_batch = (mini_batch_U, mini_batch_I, mini_batch_L)\n",
    "        mini_batches.append(mini_batch)\n",
    "\n",
    "    return mini_batches\n",
    "\n"
   ]
  },
  {
   "cell_type": "code",
   "execution_count": null,
   "metadata": {},
   "outputs": [],
   "source": [
    "for epoch in range(epochs):\n",
    "\n",
    "    \"\"\"Get our training input.\n",
    "    Loop over each batch and feed our users, items and labels into the graph. \"\"\"\n",
    "    user_input, item_input, labels = train_samples()\n",
    "\n",
    "\n",
    "    minibatches = random_mini_batches(user_input, item_input, labels)\n",
    "\n",
    "\n",
    "    for minibatch in minibatches:\n",
    "        feed_dict = {user: np.array(minibatch[0]).reshape(-1,1),\n",
    "                    item: np.array(minibatch[1]).reshape(-1,1),\n",
    "                    label: np.array(minibatch[2]).reshape(-1,1)}\n",
    "        _, l = session.run([step, loss], feed_dict)\n",
    "\n",
    "\n",
    "    progress.close()"
   ]
  },
  {
   "cell_type": "markdown",
   "metadata": {},
   "source": []
  },
  {
   "cell_type": "markdown",
   "metadata": {},
   "source": [
    "## ALS recommender"
   ]
  },
  {
   "cell_type": "code",
   "execution_count": 89,
   "metadata": {},
   "outputs": [],
   "source": [
    "import implicit"
   ]
  },
  {
   "cell_type": "code",
   "execution_count": 124,
   "metadata": {},
   "outputs": [
    {
     "data": {
      "text/html": [
       "<div>\n",
       "<style scoped>\n",
       "    .dataframe tbody tr th:only-of-type {\n",
       "        vertical-align: middle;\n",
       "    }\n",
       "\n",
       "    .dataframe tbody tr th {\n",
       "        vertical-align: top;\n",
       "    }\n",
       "\n",
       "    .dataframe thead th {\n",
       "        text-align: right;\n",
       "    }\n",
       "</style>\n",
       "<table border=\"1\" class=\"dataframe\">\n",
       "  <thead>\n",
       "    <tr style=\"text-align: right;\">\n",
       "      <th></th>\n",
       "      <th>user_id</th>\n",
       "      <th>product_id</th>\n",
       "      <th>order_id</th>\n",
       "      <th>amount</th>\n",
       "      <th>order_number</th>\n",
       "    </tr>\n",
       "  </thead>\n",
       "  <tbody>\n",
       "    <tr>\n",
       "      <th>0</th>\n",
       "      <td>202279</td>\n",
       "      <td>33120</td>\n",
       "      <td>2</td>\n",
       "      <td>5</td>\n",
       "      <td>3</td>\n",
       "    </tr>\n",
       "    <tr>\n",
       "      <th>1</th>\n",
       "      <td>202279</td>\n",
       "      <td>33120</td>\n",
       "      <td>104690</td>\n",
       "      <td>5</td>\n",
       "      <td>8</td>\n",
       "    </tr>\n",
       "    <tr>\n",
       "      <th>2</th>\n",
       "      <td>202279</td>\n",
       "      <td>33120</td>\n",
       "      <td>132412</td>\n",
       "      <td>5</td>\n",
       "      <td>6</td>\n",
       "    </tr>\n",
       "    <tr>\n",
       "      <th>3</th>\n",
       "      <td>202279</td>\n",
       "      <td>33120</td>\n",
       "      <td>2808715</td>\n",
       "      <td>5</td>\n",
       "      <td>5</td>\n",
       "    </tr>\n",
       "    <tr>\n",
       "      <th>4</th>\n",
       "      <td>202279</td>\n",
       "      <td>33120</td>\n",
       "      <td>2894949</td>\n",
       "      <td>5</td>\n",
       "      <td>1</td>\n",
       "    </tr>\n",
       "    <tr>\n",
       "      <th>...</th>\n",
       "      <td>...</td>\n",
       "      <td>...</td>\n",
       "      <td>...</td>\n",
       "      <td>...</td>\n",
       "      <td>...</td>\n",
       "    </tr>\n",
       "    <tr>\n",
       "      <th>31653684</th>\n",
       "      <td>117521</td>\n",
       "      <td>13189</td>\n",
       "      <td>2858225</td>\n",
       "      <td>1</td>\n",
       "      <td>3</td>\n",
       "    </tr>\n",
       "    <tr>\n",
       "      <th>31653685</th>\n",
       "      <td>189140</td>\n",
       "      <td>47680</td>\n",
       "      <td>1666202</td>\n",
       "      <td>1</td>\n",
       "      <td>2</td>\n",
       "    </tr>\n",
       "    <tr>\n",
       "      <th>31653686</th>\n",
       "      <td>182854</td>\n",
       "      <td>34390</td>\n",
       "      <td>1699504</td>\n",
       "      <td>1</td>\n",
       "      <td>10</td>\n",
       "    </tr>\n",
       "    <tr>\n",
       "      <th>31653687</th>\n",
       "      <td>51836</td>\n",
       "      <td>31530</td>\n",
       "      <td>2666238</td>\n",
       "      <td>1</td>\n",
       "      <td>12</td>\n",
       "    </tr>\n",
       "    <tr>\n",
       "      <th>31653688</th>\n",
       "      <td>37237</td>\n",
       "      <td>39759</td>\n",
       "      <td>2770035</td>\n",
       "      <td>1</td>\n",
       "      <td>50</td>\n",
       "    </tr>\n",
       "  </tbody>\n",
       "</table>\n",
       "<p>31653689 rows × 5 columns</p>\n",
       "</div>"
      ],
      "text/plain": [
       "          user_id  product_id  order_id  amount  order_number\n",
       "0          202279       33120         2       5             3\n",
       "1          202279       33120    104690       5             8\n",
       "2          202279       33120    132412       5             6\n",
       "3          202279       33120   2808715       5             5\n",
       "4          202279       33120   2894949       5             1\n",
       "...           ...         ...       ...     ...           ...\n",
       "31653684   117521       13189   2858225       1             3\n",
       "31653685   189140       47680   1666202       1             2\n",
       "31653686   182854       34390   1699504       1            10\n",
       "31653687    51836       31530   2666238       1            12\n",
       "31653688    37237       39759   2770035       1            50\n",
       "\n",
       "[31653689 rows x 5 columns]"
      ]
     },
     "execution_count": 124,
     "metadata": {},
     "output_type": "execute_result"
    }
   ],
   "source": [
    "train_data"
   ]
  },
  {
   "cell_type": "code",
   "execution_count": 90,
   "metadata": {},
   "outputs": [
    {
     "name": "stderr",
     "output_type": "stream",
     "text": [
      "WARNING:root:Intel MKL BLAS detected. Its highly recommend to set the environment variable 'export MKL_NUM_THREADS=1' to disable its internal multithreading\n"
     ]
    }
   ],
   "source": [
    "model = implicit.als.AlternatingLeastSquares(factors=50, random_state=42)"
   ]
  },
  {
   "cell_type": "code",
   "execution_count": 125,
   "metadata": {},
   "outputs": [
    {
     "data": {
      "application/vnd.jupyter.widget-view+json": {
       "model_id": "a101564ba07f4a338234f3b583b7dfc8",
       "version_major": 2,
       "version_minor": 0
      },
      "text/plain": [
       "HBox(children=(HTML(value=''), FloatProgress(value=0.0, max=15.0), HTML(value='')))"
      ]
     },
     "metadata": {},
     "output_type": "display_data"
    },
    {
     "name": "stdout",
     "output_type": "stream",
     "text": [
      "\n"
     ]
    }
   ],
   "source": [
    "\"\"\"Fits transpose CF matrix to lib recommender\"\"\"\n",
    "model.fit(CF.T.tocsr())"
   ]
  },
  {
   "cell_type": "code",
   "execution_count": 128,
   "metadata": {},
   "outputs": [],
   "source": [
    "t = pd.Series(CF1[0].toarray()[0])"
   ]
  },
  {
   "cell_type": "code",
   "execution_count": 129,
   "metadata": {},
   "outputs": [
    {
     "data": {
      "text/plain": [
       "195      100\n",
       "10253     81\n",
       "10321      1\n",
       "12421    100\n",
       "13026      9\n",
       "13170      4\n",
       "14078      1\n",
       "17116      1\n",
       "25127     64\n",
       "26081      4\n",
       "26398      4\n",
       "30439      1\n",
       "35940      1\n",
       "38913      1\n",
       "39641      1\n",
       "41771      1\n",
       "46130      9\n",
       "49215      4\n",
       "dtype: int64"
      ]
     },
     "execution_count": 129,
     "metadata": {},
     "output_type": "execute_result"
    }
   ],
   "source": [
    "t[t != 0]"
   ]
  },
  {
   "cell_type": "code",
   "execution_count": 33,
   "metadata": {},
   "outputs": [],
   "source": [
    "rev_item_map = {v: k for k, v in item_map.items()}"
   ]
  },
  {
   "cell_type": "code",
   "execution_count": 130,
   "metadata": {},
   "outputs": [
    {
     "name": "stderr",
     "output_type": "stream",
     "text": [
      "100%|█████████████████████████████████████████████████████████████████████████| 206209/206209 [03:33<00:00, 966.89it/s]\n"
     ]
    }
   ],
   "source": [
    "\"\"\"gets recs for each user from lib model\"\"\"\n",
    "\n",
    "recs = []\n",
    "for user in tqdm(test_data.user_id.unique()):\n",
    "    ids = user_map[user]\n",
    "    user_recs = model.recommend(ids, CF, N=10, filter_already_liked_items=False)\n",
    "    user_recs = [rev_item_map[i[0]] for i in user_recs]\n",
    "    recs.append(user_recs)"
   ]
  },
  {
   "cell_type": "code",
   "execution_count": 131,
   "metadata": {},
   "outputs": [],
   "source": [
    "ALS_res = pd.DataFrame({\n",
    "            'user_id': np.repeat(test_data.user_id.unique(), 10),\n",
    "            'product_id': np.array(recs).flatten(),\n",
    "            'item_order': list(range(1, 11)) * test_data.user_id.unique().shape[0]\n",
    "        })"
   ]
  },
  {
   "cell_type": "code",
   "execution_count": 132,
   "metadata": {},
   "outputs": [
    {
     "data": {
      "text/html": [
       "<div>\n",
       "<style scoped>\n",
       "    .dataframe tbody tr th:only-of-type {\n",
       "        vertical-align: middle;\n",
       "    }\n",
       "\n",
       "    .dataframe tbody tr th {\n",
       "        vertical-align: top;\n",
       "    }\n",
       "\n",
       "    .dataframe thead th {\n",
       "        text-align: right;\n",
       "    }\n",
       "</style>\n",
       "<table border=\"1\" class=\"dataframe\">\n",
       "  <thead>\n",
       "    <tr style=\"text-align: right;\">\n",
       "      <th></th>\n",
       "      <th>user_id</th>\n",
       "      <th>product_id</th>\n",
       "      <th>item_order</th>\n",
       "    </tr>\n",
       "  </thead>\n",
       "  <tbody>\n",
       "    <tr>\n",
       "      <th>0</th>\n",
       "      <td>116952</td>\n",
       "      <td>24852</td>\n",
       "      <td>1</td>\n",
       "    </tr>\n",
       "    <tr>\n",
       "      <th>1</th>\n",
       "      <td>116952</td>\n",
       "      <td>21137</td>\n",
       "      <td>2</td>\n",
       "    </tr>\n",
       "    <tr>\n",
       "      <th>2</th>\n",
       "      <td>116952</td>\n",
       "      <td>39877</td>\n",
       "      <td>3</td>\n",
       "    </tr>\n",
       "    <tr>\n",
       "      <th>3</th>\n",
       "      <td>116952</td>\n",
       "      <td>30391</td>\n",
       "      <td>4</td>\n",
       "    </tr>\n",
       "    <tr>\n",
       "      <th>4</th>\n",
       "      <td>116952</td>\n",
       "      <td>39275</td>\n",
       "      <td>5</td>\n",
       "    </tr>\n",
       "    <tr>\n",
       "      <th>...</th>\n",
       "      <td>...</td>\n",
       "      <td>...</td>\n",
       "      <td>...</td>\n",
       "    </tr>\n",
       "    <tr>\n",
       "      <th>2062085</th>\n",
       "      <td>184060</td>\n",
       "      <td>19348</td>\n",
       "      <td>6</td>\n",
       "    </tr>\n",
       "    <tr>\n",
       "      <th>2062086</th>\n",
       "      <td>184060</td>\n",
       "      <td>20119</td>\n",
       "      <td>7</td>\n",
       "    </tr>\n",
       "    <tr>\n",
       "      <th>2062087</th>\n",
       "      <td>184060</td>\n",
       "      <td>46979</td>\n",
       "      <td>8</td>\n",
       "    </tr>\n",
       "    <tr>\n",
       "      <th>2062088</th>\n",
       "      <td>184060</td>\n",
       "      <td>28204</td>\n",
       "      <td>9</td>\n",
       "    </tr>\n",
       "    <tr>\n",
       "      <th>2062089</th>\n",
       "      <td>184060</td>\n",
       "      <td>49520</td>\n",
       "      <td>10</td>\n",
       "    </tr>\n",
       "  </tbody>\n",
       "</table>\n",
       "<p>2062090 rows × 3 columns</p>\n",
       "</div>"
      ],
      "text/plain": [
       "         user_id  product_id  item_order\n",
       "0         116952       24852           1\n",
       "1         116952       21137           2\n",
       "2         116952       39877           3\n",
       "3         116952       30391           4\n",
       "4         116952       39275           5\n",
       "...          ...         ...         ...\n",
       "2062085   184060       19348           6\n",
       "2062086   184060       20119           7\n",
       "2062087   184060       46979           8\n",
       "2062088   184060       28204           9\n",
       "2062089   184060       49520          10\n",
       "\n",
       "[2062090 rows x 3 columns]"
      ]
     },
     "execution_count": 132,
     "metadata": {},
     "output_type": "execute_result"
    }
   ],
   "source": [
    "ALS_res"
   ]
  },
  {
   "cell_type": "code",
   "execution_count": 133,
   "metadata": {},
   "outputs": [
    {
     "data": {
      "text/html": [
       "<div>\n",
       "<style scoped>\n",
       "    .dataframe tbody tr th:only-of-type {\n",
       "        vertical-align: middle;\n",
       "    }\n",
       "\n",
       "    .dataframe tbody tr th {\n",
       "        vertical-align: top;\n",
       "    }\n",
       "\n",
       "    .dataframe thead th {\n",
       "        text-align: right;\n",
       "    }\n",
       "</style>\n",
       "<table border=\"1\" class=\"dataframe\">\n",
       "  <thead>\n",
       "    <tr style=\"text-align: right;\">\n",
       "      <th></th>\n",
       "      <th>user_id</th>\n",
       "      <th>product_id</th>\n",
       "      <th>order_id</th>\n",
       "    </tr>\n",
       "  </thead>\n",
       "  <tbody>\n",
       "    <tr>\n",
       "      <th>343</th>\n",
       "      <td>116952</td>\n",
       "      <td>33120</td>\n",
       "      <td>3302</td>\n",
       "    </tr>\n",
       "    <tr>\n",
       "      <th>344</th>\n",
       "      <td>116952</td>\n",
       "      <td>21137</td>\n",
       "      <td>3302</td>\n",
       "    </tr>\n",
       "    <tr>\n",
       "      <th>345</th>\n",
       "      <td>116952</td>\n",
       "      <td>49235</td>\n",
       "      <td>3302</td>\n",
       "    </tr>\n",
       "    <tr>\n",
       "      <th>346</th>\n",
       "      <td>116952</td>\n",
       "      <td>5077</td>\n",
       "      <td>3302</td>\n",
       "    </tr>\n",
       "    <tr>\n",
       "      <th>347</th>\n",
       "      <td>116952</td>\n",
       "      <td>25230</td>\n",
       "      <td>3302</td>\n",
       "    </tr>\n",
       "    <tr>\n",
       "      <th>...</th>\n",
       "      <td>...</td>\n",
       "      <td>...</td>\n",
       "      <td>...</td>\n",
       "    </tr>\n",
       "    <tr>\n",
       "      <th>33819051</th>\n",
       "      <td>204952</td>\n",
       "      <td>973</td>\n",
       "      <td>567548</td>\n",
       "    </tr>\n",
       "    <tr>\n",
       "      <th>33819083</th>\n",
       "      <td>102127</td>\n",
       "      <td>19833</td>\n",
       "      <td>607607</td>\n",
       "    </tr>\n",
       "    <tr>\n",
       "      <th>33819091</th>\n",
       "      <td>9798</td>\n",
       "      <td>43134</td>\n",
       "      <td>2570526</td>\n",
       "    </tr>\n",
       "    <tr>\n",
       "      <th>33819101</th>\n",
       "      <td>170084</td>\n",
       "      <td>28717</td>\n",
       "      <td>2839453</td>\n",
       "    </tr>\n",
       "    <tr>\n",
       "      <th>33819102</th>\n",
       "      <td>184060</td>\n",
       "      <td>12841</td>\n",
       "      <td>1362475</td>\n",
       "    </tr>\n",
       "  </tbody>\n",
       "</table>\n",
       "<p>2165417 rows × 3 columns</p>\n",
       "</div>"
      ],
      "text/plain": [
       "          user_id  product_id  order_id\n",
       "343        116952       33120      3302\n",
       "344        116952       21137      3302\n",
       "345        116952       49235      3302\n",
       "346        116952        5077      3302\n",
       "347        116952       25230      3302\n",
       "...           ...         ...       ...\n",
       "33819051   204952         973    567548\n",
       "33819083   102127       19833    607607\n",
       "33819091     9798       43134   2570526\n",
       "33819101   170084       28717   2839453\n",
       "33819102   184060       12841   1362475\n",
       "\n",
       "[2165417 rows x 3 columns]"
      ]
     },
     "execution_count": 133,
     "metadata": {},
     "output_type": "execute_result"
    }
   ],
   "source": [
    "test_data"
   ]
  },
  {
   "cell_type": "code",
   "execution_count": 135,
   "metadata": {},
   "outputs": [],
   "source": [
    "ALS_res = ALS_res.merge(train_data.drop_duplicates(['user_id', 'product_id']), on=['user_id', 'product_id'], how='left')[['user_id', 'product_id', 'item_order', 'amount']]"
   ]
  },
  {
   "cell_type": "code",
   "execution_count": 136,
   "metadata": {},
   "outputs": [],
   "source": [
    "ALS_res['amount'][ALS_res.amount.isna()] = 0"
   ]
  },
  {
   "cell_type": "markdown",
   "metadata": {},
   "source": [
    "metrics(test_data, ALS_res)"
   ]
  },
  {
   "cell_type": "code",
   "execution_count": 138,
   "metadata": {},
   "outputs": [],
   "source": [
    "ALS_res.amount = ALS_res.amount / max(ALS_res.amount) * 3"
   ]
  },
  {
   "cell_type": "code",
   "execution_count": 139,
   "metadata": {},
   "outputs": [
    {
     "data": {
      "text/plain": [
       "0.06043338214892533"
      ]
     },
     "execution_count": 139,
     "metadata": {},
     "output_type": "execute_result"
    }
   ],
   "source": [
    "ALS_res.groupby('user_id')['amount'].apply(list).apply(lambda x: ndcg(x, 10)).mean()"
   ]
  },
  {
   "cell_type": "markdown",
   "metadata": {},
   "source": [
    "- Hitrate@10  0.671\n",
    "- MAP@10  0.353\n",
    "- nDCG 0.060"
   ]
  },
  {
   "cell_type": "markdown",
   "metadata": {},
   "source": [
    "## KNN on SVD embeddings"
   ]
  },
  {
   "cell_type": "code",
   "execution_count": 16,
   "metadata": {},
   "outputs": [],
   "source": [
    "\"\"\"Uses svd embeddings of items to create neighbourhood (Recommender is  item-based)\"\"\"\n",
    "\n",
    "from sklearn.decomposition import TruncatedSVD\n",
    "svd = TruncatedSVD(n_components=1000, random_state=42)\n",
    "\n",
    "svd_matrix = pd.DataFrame(svd.fit_transform(CF.transpose()))"
   ]
  },
  {
   "cell_type": "code",
   "execution_count": 18,
   "metadata": {},
   "outputs": [],
   "source": [
    "from annoy import AnnoyIndex\n",
    "from tqdm import tqdm"
   ]
  },
  {
   "cell_type": "code",
   "execution_count": 19,
   "metadata": {},
   "outputs": [],
   "source": [
    "t = AnnoyIndex(1000, 'angular')"
   ]
  },
  {
   "cell_type": "code",
   "execution_count": 20,
   "metadata": {},
   "outputs": [
    {
     "name": "stderr",
     "output_type": "stream",
     "text": [
      "100%|██████████████████████████████████████████████████████████████████████████| 49668/49668 [00:21<00:00, 2313.16it/s]\n"
     ]
    }
   ],
   "source": [
    "\"\"\"Creates items' neighbourhood\"\"\"\n",
    "for i in tqdm(train_data.product_id.unique()):\n",
    "    t.add_item(i, svd_matrix.loc[item_map[i]])"
   ]
  },
  {
   "cell_type": "code",
   "execution_count": 21,
   "metadata": {},
   "outputs": [
    {
     "data": {
      "text/plain": [
       "True"
      ]
     },
     "execution_count": 21,
     "metadata": {},
     "output_type": "execute_result"
    }
   ],
   "source": [
    "t.build(10)"
   ]
  },
  {
   "cell_type": "code",
   "execution_count": 22,
   "metadata": {},
   "outputs": [
    {
     "data": {
      "text/plain": [
       "0     3351.495121\n",
       "1     6973.871419\n",
       "2    -1036.179614\n",
       "3    -1404.534217\n",
       "4     -213.842175\n",
       "         ...     \n",
       "95     -21.895512\n",
       "96      41.767672\n",
       "97     134.288380\n",
       "98      26.092900\n",
       "99     -84.206489\n",
       "Length: 100, dtype: float64"
      ]
     },
     "execution_count": 22,
     "metadata": {},
     "output_type": "execute_result"
    }
   ],
   "source": [
    "\"\"\"Gets the mean embedding of the products that user has ever bought\"\"\"\n",
    "svd_matrix.loc[test_data[test_data.user_id == i].product_id.apply(lambda x: item_map[x]).unique()].mean(axis=0)"
   ]
  },
  {
   "cell_type": "code",
   "execution_count": 23,
   "metadata": {},
   "outputs": [
    {
     "name": "stderr",
     "output_type": "stream",
     "text": [
      "100%|████████████████████████████████████████████████████████████████████████| 206209/206209 [5:25:17<00:00, 10.57it/s]\n"
     ]
    }
   ],
   "source": [
    "\"\"\"Creates embedding for each user uses Annoy model to get recommendations of closest product to mean emb.\"\"\"\n",
    "\n",
    "KNN_res = pd.DataFrame(columns=['user_id', 'product_id', 'item_order'])\n",
    "for i in tqdm(test_data.user_id.unique()):\n",
    "    v = svd_matrix.loc[train_data[train_data.user_id == i].product_id.apply(lambda x: item_map[x]).unique()].mean(axis=0)\n",
    "    KNN_res = KNN_res.append(pd.DataFrame({\n",
    "            'user_id': np.repeat(i, 10),\n",
    "            'product_id': t.get_nns_by_vector(v, 10),\n",
    "            'item_order': list(range(1, 11))\n",
    "        }))"
   ]
  },
  {
   "cell_type": "code",
   "execution_count": 26,
   "metadata": {},
   "outputs": [],
   "source": [
    "metrics(test_data, KNN_res)"
   ]
  },
  {
   "cell_type": "code",
   "execution_count": 27,
   "metadata": {},
   "outputs": [],
   "source": [
    "KNN_res = KNN_res.merge(train_data.drop_duplicates(['user_id', 'product_id']), on=['user_id', 'product_id'], how='left')[['user_id', 'product_id', 'item_order', 'amount']]"
   ]
  },
  {
   "cell_type": "code",
   "execution_count": 28,
   "metadata": {},
   "outputs": [],
   "source": [
    "KNN_res['amount'][KNN_res.amount.isna()] = 0"
   ]
  },
  {
   "cell_type": "code",
   "execution_count": 29,
   "metadata": {},
   "outputs": [],
   "source": [
    "KNN_res.amount = KNN_res.amount / max(KNN_res.amount) * 3"
   ]
  },
  {
   "cell_type": "code",
   "execution_count": 36,
   "metadata": {},
   "outputs": [],
   "source": [
    "KNN_res.groupby('user_id')['amount'].apply(list).apply(lambda x: ndcg(x, 10)).mean()"
   ]
  },
  {
   "cell_type": "markdown",
   "metadata": {},
   "source": [
    "- HitRate@10     0.545\n",
    "- MAP@10         0.305\n",
    "- nDCG@10        0.041"
   ]
  },
  {
   "cell_type": "code",
   "execution_count": null,
   "metadata": {},
   "outputs": [],
   "source": []
  }
 ],
 "metadata": {
  "kernelspec": {
   "display_name": "Python 3",
   "language": "python",
   "name": "python3"
  },
  "language_info": {
   "codemirror_mode": {
    "name": "ipython",
    "version": 3
   },
   "file_extension": ".py",
   "mimetype": "text/x-python",
   "name": "python",
   "nbconvert_exporter": "python",
   "pygments_lexer": "ipython3",
   "version": "3.7.4"
  }
 },
 "nbformat": 4,
 "nbformat_minor": 4
}
